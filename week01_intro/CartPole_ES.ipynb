{
 "cells": [
  {
   "cell_type": "code",
   "execution_count": 1,
   "metadata": {},
   "outputs": [
    {
     "data": {
      "text/plain": [
       "<matplotlib.image.AxesImage at 0x7f377e868bd0>"
      ]
     },
     "execution_count": 1,
     "metadata": {},
     "output_type": "execute_result"
    },
    {
     "data": {
      "image/png": "[encoded data removed]",
      "text/plain": [
       "<Figure size 432x288 with 1 Axes>"
      ]
     },
     "metadata": {
      "needs_background": "light"
     },
     "output_type": "display_data"
    }
   ],
   "source": [
    "import gym \n",
    "import matplotlib.pyplot as plt\n",
    "import numpy as np\n",
    "%matplotlib inline\n",
    "env = gym.make(\"CartPole-v0\")\n",
    "env.reset()\n",
    "n_actions = env.action_space.n\n",
    "\n",
    "plt.imshow(env.render(\"rgb_array\"))"
   ]
  },
  {
   "cell_type": "code",
   "execution_count": 2,
   "metadata": {},
   "outputs": [],
   "source": [
    "from joblib import Parallel, delayed"
   ]
  },
  {
   "cell_type": "code",
   "execution_count": 3,
   "metadata": {},
   "outputs": [],
   "source": [
    "N = 1000 # n_of_frames for each game \n",
    "npop = 100 # population size\n",
    "sigma= 0.1 # deviation \n",
    "w = np.random.randn(4) # probabilities of action_0 on each frame ## to update!\n",
    "alpha =0.1 #learning rate"
   ]
  },
  {
   "cell_type": "code",
   "execution_count": 4,
   "metadata": {},
   "outputs": [],
   "source": [
    "def training(w_new):\n",
    "    env = gym.make(\"CartPole-v0\")\n",
    "    s = env.reset()\n",
    "    rewards= []\n",
    "    for j in range(N):\n",
    "        prob = np.clip(np.dot(w_new.T,s),0,1)\n",
    "        p = [prob,1.-prob]\n",
    "        new_state, r, done, _ = env.step(np.random.choice(n_actions,p = p))\n",
    "        rewards.append(r)\n",
    "        s=new_state\n",
    "        if done:\n",
    "            break\n",
    "    return sum(rewards)"
   ]
  },
  {
   "cell_type": "code",
   "execution_count": 5,
   "metadata": {},
   "outputs": [],
   "source": [
    "def full_train(w):\n",
    "    for n_episodes in range(1000):\n",
    "        R=[]\n",
    "        w_try = np.random.randn(npop,4) \n",
    "    \n",
    "        for i in range(npop):\n",
    "            w_new=w + sigma*w_try[i]\n",
    "            R.append(training(w_new))\n",
    "        if n_episodes%10 == 0: print('episode of game {}, mean reward over population {}'\n",
    "                                .format(n_episodes, np.mean(R)))\n",
    "        if np.mean(R) > 195: \n",
    "            print('iteration {} mean reward over population {}'.format(n_episodes,np.mean(R)))\n",
    "            break\n",
    "        R = (R-np.mean(R))/(1+np.std(R))\n",
    "        w += alpha/(npop*sigma)* np.dot(w_try.T,R)   \n",
    "    return w"
   ]
  },
  {
   "cell_type": "code",
   "execution_count": 6,
   "metadata": {},
   "outputs": [
    {
     "name": "stdout",
     "output_type": "stream",
     "text": [
      "episode of game 0, mean reward over population 20.06\n",
      "episode of game 10, mean reward over population 180.14\n",
      "iteration 13 mean reward over population 197.55\n",
      "CPU times: user 10.4 s, sys: 42.3 ms, total: 10.5 s\n",
      "Wall time: 10.5 s\n"
     ]
    }
   ],
   "source": [
    "%%time\n",
    "w_new = full_train(w)"
   ]
  },
  {
   "cell_type": "code",
   "execution_count": 7,
   "metadata": {},
   "outputs": [],
   "source": [
    "N = 1000 # n_of_frames for each game \n",
    "npop = 100 # population size\n",
    "sigma= 0.1 # deviation \n",
    "w = np.random.randn(4) # probabilities of action_0 on each frame ## to update!\n",
    "alpha =0.1 #learning rate"
   ]
  },
  {
   "cell_type": "code",
   "execution_count": 8,
   "metadata": {},
   "outputs": [],
   "source": [
    "def training_parallel(w_new):\n",
    "    env = gym.make(\"CartPole-v0\").env\n",
    "    s = env.reset()\n",
    "    rewards= []\n",
    "    for j in range(N):\n",
    "        prob = np.clip(np.dot(w_new.T,s),0,1)\n",
    "        p = [prob,1.-prob]\n",
    "        new_state, r, done, _ = env.step(np.random.choice(n_actions,p = p))\n",
    "        rewards.append(r)\n",
    "        s=new_state\n",
    "        if done:\n",
    "            break\n",
    "    return sum(rewards)"
   ]
  },
  {
   "cell_type": "code",
   "execution_count": 9,
   "metadata": {},
   "outputs": [],
   "source": [
    "def full_train_parallel(w):\n",
    "    for n_episodes in range(1000):\n",
    "        w_try = np.random.randn(npop, 4) \n",
    "        R = Parallel(n_jobs=4)(delayed(training_parallel)(w+sigma*w_try[i]) for i in range(npop))\n",
    "        \n",
    "        if n_episodes%10 == 0: print('episode of game {}, mean reward over population {}'\n",
    "                                .format(n_episodes, np.mean(R)))\n",
    "        if np.mean(R) > 195: \n",
    "            print('iteration {} mean reward over population {}'.format(n_episodes,np.mean(R)))\n",
    "            break\n",
    "        R = (R-np.mean(R))/(1+np.std(R))\n",
    "        w += alpha/(npop*sigma)* np.dot(w_try.T,R)    \n",
    "    return w"
   ]
  },
  {
   "cell_type": "code",
   "execution_count": 10,
   "metadata": {},
   "outputs": [
    {
     "name": "stdout",
     "output_type": "stream",
     "text": [
      "episode of game 0, mean reward over population 26.18\n",
      "episode of game 10, mean reward over population 44.14\n",
      "episode of game 20, mean reward over population 60.44\n",
      "episode of game 30, mean reward over population 57.76\n",
      "episode of game 40, mean reward over population 64.38\n",
      "episode of game 50, mean reward over population 71.36\n",
      "episode of game 60, mean reward over population 72.76\n",
      "iteration 67 mean reward over population 195.26\n",
      "CPU times: user 5.29 s, sys: 148 ms, total: 5.44 s\n",
      "Wall time: 11.7 s\n"
     ]
    }
   ],
   "source": [
    "%%time\n",
    "w_new = full_train_parallel(w)"
   ]
  },
  {
   "cell_type": "code",
   "execution_count": null,
   "metadata": {},
   "outputs": [],
   "source": []
  }
 ],
 "metadata": {
  "kernelspec": {
   "display_name": "Python 3",
   "language": "python",
   "name": "python3"
  },
  "language_info": {
   "codemirror_mode": {
    "name": "ipython",
    "version": 3
   },
   "file_extension": ".py",
   "mimetype": "text/x-python",
   "name": "python",
   "nbconvert_exporter": "python",
   "pygments_lexer": "ipython3",
   "version": "3.7.6"
  }
 },
 "nbformat": 4,
 "nbformat_minor": 2
}
