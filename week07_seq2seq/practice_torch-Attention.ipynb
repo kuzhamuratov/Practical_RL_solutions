{
 "cells": [
  {
   "cell_type": "markdown",
   "metadata": {},
   "source": [
    "## Reinforcement Learning for seq2seq\n",
    "\n",
    "This time we'll solve a problem of transribing hebrew words in english, also known as g2p (grapheme2phoneme)\n",
    "\n",
    " * word (sequence of letters in source language) -> translation (sequence of letters in target language)\n",
    "\n",
    "Unlike what most deep learning practicioners do, we won't only train it to maximize likelihood of correct translation, but also employ reinforcement learning to actually teach it to translate with as few errors as possible.\n",
    "\n",
    "\n",
    "### About the task\n",
    "\n",
    "One notable property of Hebrew is that it's consonant language. That is, there are no wovels in the written language. One could represent wovels with diacritics above consonants, but you don't expect people to do that in everyay life.\n",
    "\n",
    "Therefore, some hebrew characters will correspond to several english letters and others - to none, so we should use encoder-decoder architecture to figure that out.\n",
    "\n",
    "![img](https://esciencegroup.files.wordpress.com/2016/03/seq2seq.jpg)\n",
    "_(img: esciencegroup.files.wordpress.com)_\n",
    "\n",
    "Encoder-decoder architectures are about converting anything to anything, including\n",
    " * Machine translation and spoken dialogue systems\n",
    " * [Image captioning](http://mscoco.org/dataset/#captions-challenge2015) and [image2latex](https://htmlpreview.github.io/?https://github.com/openai/requests-for-research/blob/master/_requests_for_research/im2latex.html) (convolutional encoder, recurrent decoder)\n",
    " * Generating [images by captions](https://arxiv.org/abs/1511.02793) (recurrent encoder, convolutional decoder)\n",
    " * Grapheme2phoneme - convert words to transcripts\n",
    "  \n",
    "We chose simplified __Hebrew->English__ machine translation for words and short phrases (character-level), as it is relatively quick to train even without a gpu cluster."
   ]
  },
  {
   "cell_type": "code",
   "execution_count": 1,
   "metadata": {},
   "outputs": [],
   "source": [
    "import sys\n",
    "if 'google.colab' in sys.modules:\n",
    "    !wget https://raw.githubusercontent.com/yandexdataschool/Practical_RL/spring20/week07_seq2seq/basic_model_torch.py -O basic_model_torch.py\n",
    "    !wget https://raw.githubusercontent.com/yandexdataschool/Practical_RL/spring20/week07_seq2seq/main_dataset.txt -O main_dataset.txt\n",
    "    !wget https://raw.githubusercontent.com/yandexdataschool/Practical_RL/spring20/week07_seq2seq/voc.py -O voc.py\n",
    "    !pip3 install torch==1.0.0 nltk editdistance"
   ]
  },
  {
   "cell_type": "code",
   "execution_count": 2,
   "metadata": {},
   "outputs": [],
   "source": [
    "# If True, only translates phrases shorter than 20 characters (way easier).\n",
    "EASY_MODE = True\n",
    "# Useful for initial coding.\n",
    "# If false, works with all phrases (please switch to this mode for homework assignment)\n",
    "\n",
    "# way we translate. Either \"he-to-en\" or \"en-to-he\"\n",
    "MODE = \"he-to-en\"\n",
    "# maximal length of _generated_ output, does not affect training\n",
    "MAX_OUTPUT_LENGTH = 50 if not EASY_MODE else 20\n",
    "REPORT_FREQ = 100                          # how often to evaluate validation score"
   ]
  },
  {
   "cell_type": "markdown",
   "metadata": {},
   "source": [
    "### Step 1: preprocessing\n",
    "\n",
    "We shall store dataset as a dictionary\n",
    "`{ word1:[translation1,translation2,...], word2:[...],...}`.\n",
    "\n",
    "This is mostly due to the fact that many words have several correct translations.\n",
    "\n",
    "We have implemented this thing for you so that you can focus on more interesting parts.\n",
    "\n",
    "\n",
    "__Attention python2 users!__ You may want to cast everything to unicode later during homework phase, just make sure you do it _everywhere_."
   ]
  },
  {
   "cell_type": "code",
   "execution_count": 3,
   "metadata": {},
   "outputs": [
    {
     "name": "stdout",
     "output_type": "stream",
     "text": [
      "size =  130114\n"
     ]
    }
   ],
   "source": [
    "import numpy as np\n",
    "from collections import defaultdict\n",
    "word_to_translation = defaultdict(list)  # our dictionary\n",
    "\n",
    "bos = '_'\n",
    "eos = ';'\n",
    "\n",
    "with open(\"main_dataset.txt\", encoding=\"utf-8\") as fin:\n",
    "    for line in fin:\n",
    "\n",
    "        en, he = line[:-1].lower().replace(bos, ' ').replace(eos,\n",
    "                                                             ' ').split('\\t')\n",
    "        word, trans = (he, en) if MODE == 'he-to-en' else (en, he)\n",
    "\n",
    "        if len(word) < 3:\n",
    "            continue\n",
    "        if EASY_MODE:\n",
    "            if max(len(word), len(trans)) > 20:\n",
    "                continue\n",
    "\n",
    "        word_to_translation[word].append(trans)\n",
    "\n",
    "print(\"size = \", len(word_to_translation))"
   ]
  },
  {
   "cell_type": "code",
   "execution_count": 4,
   "metadata": {},
   "outputs": [],
   "source": [
    "# get all unique lines in source language\n",
    "all_words = np.array(list(word_to_translation.keys()))\n",
    "# get all unique lines in translation language\n",
    "all_translations = np.array(list(set(\n",
    "    [ts for all_ts in word_to_translation.values() for ts in all_ts])))"
   ]
  },
  {
   "cell_type": "markdown",
   "metadata": {},
   "source": [
    "### split the dataset\n",
    "\n",
    "We hold out 10% of all words to be used for validation.\n"
   ]
  },
  {
   "cell_type": "code",
   "execution_count": 5,
   "metadata": {},
   "outputs": [],
   "source": [
    "from sklearn.model_selection import train_test_split\n",
    "train_words, test_words = train_test_split(\n",
    "    all_words, test_size=0.1, random_state=42)"
   ]
  },
  {
   "cell_type": "code",
   "execution_count": 6,
   "metadata": {},
   "outputs": [
    {
     "data": {
      "text/plain": [
       "array(['משתמש:צלף/!', 'סימן קריאה', 'תבנית:!!', '$9.99', \"תבנית:'\",\n",
       "       'עבד אל-אילה', 'עבד-אל סטאר קאסם', \"עין ע'זאל\", 'עכברה', 'אלו אלו',\n",
       "       'עמר אבן אל-עאץ', 'עמראן', 'ענאתא', 'עאנין', 'עארה', 'דן בוס',\n",
       "       '(29075) 1950 da', 'משתמש:(:julien:)', '(miss)understood',\n",
       "       '(you drive me) crazy', 'אינוולוציה', '+44', '+972', 'תבנית:-',\n",
       "       'משתמש:-strogoff-', 'הנשיא הנבחר', '.30-06 ספרינגפילד',\n",
       "       '357. מגנום', '.357 sig', \"סמית' וסון 40\", '44. מגנום',\n",
       "       '.50 action express', '.net', 'קטגוריה:.net', '.ae', 'af.', 'ag.',\n",
       "       'ai.', 'al.', 'aq.', '.ar', '.au', '.be', '.bh', 'br.', '.cn',\n",
       "       '.com', '.de', '.es', '.et'], dtype='<U20')"
      ]
     },
     "execution_count": 6,
     "metadata": {},
     "output_type": "execute_result"
    }
   ],
   "source": [
    "all_words[:50]"
   ]
  },
  {
   "cell_type": "markdown",
   "metadata": {},
   "source": [
    "### Building vocabularies\n",
    "\n",
    "We now need to build vocabularies that map strings to token ids and vice versa. We're gonna need these fellas when we feed training data into model or convert output matrices into english words."
   ]
  },
  {
   "cell_type": "code",
   "execution_count": 7,
   "metadata": {},
   "outputs": [],
   "source": [
    "from voc import Vocab\n",
    "inp_voc = Vocab.from_lines(''.join(all_words), bos=bos, eos=eos, sep='')\n",
    "out_voc = Vocab.from_lines(''.join(all_translations), bos=bos, eos=eos, sep='')"
   ]
  },
  {
   "cell_type": "code",
   "execution_count": 8,
   "metadata": {},
   "outputs": [
    {
     "name": "stdout",
     "output_type": "stream",
     "text": [
      "lines\n",
      "['משתמש:צלף/!' 'סימן קריאה' 'תבנית:!!' '$9.99' \"תבנית:'\"]\n",
      "\n",
      "words to ids (0 = bos, 1 = eos):\n",
      "[[  0 127 138 139 127 138  27 135 125 132  16   3   1]\n",
      " [  0 130 122 127 128   2 136 137 122 113 117   1   1]\n",
      " [  0 139 114 129 122 139  27   3   3   1   1   1   1]\n",
      " [  0   6  26  15  26  26   1   1   1   1   1   1   1]\n",
      " [  0 139 114 129 122 139  27   8   1   1   1   1   1]]\n",
      "\n",
      "back to words\n",
      "['משתמש:צלף/!', 'סימן קריאה', 'תבנית:!!', '$9.99', \"תבנית:'\"]\n"
     ]
    }
   ],
   "source": [
    "# Here's how you cast lines into ids and backwards.\n",
    "batch_lines = all_words[:5]\n",
    "batch_ids = inp_voc.to_matrix(batch_lines)\n",
    "batch_lines_restored = inp_voc.to_lines(batch_ids)\n",
    "\n",
    "print(\"lines\")\n",
    "print(batch_lines)\n",
    "print(\"\\nwords to ids (0 = bos, 1 = eos):\")\n",
    "print(batch_ids)\n",
    "print(\"\\nback to words\")\n",
    "print(batch_lines_restored)"
   ]
  },
  {
   "cell_type": "markdown",
   "metadata": {},
   "source": [
    "Draw word/translation length distributions to estimate the scope of the task."
   ]
  },
  {
   "cell_type": "code",
   "execution_count": 9,
   "metadata": {},
   "outputs": [
    {
     "data": {
      "text/plain": [
       "(array([   16.,    67.,  1893.,  4238.,  6268.,  8015.,  8186.,  7720.,\n",
       "         7837.,  8957.,  9696., 10609., 10733., 10246.,  9015.,  7622.,\n",
       "         6313.,  5386.,  4372.,  3587.]),\n",
       " array([ 1.  ,  1.95,  2.9 ,  3.85,  4.8 ,  5.75,  6.7 ,  7.65,  8.6 ,\n",
       "         9.55, 10.5 , 11.45, 12.4 , 13.35, 14.3 , 15.25, 16.2 , 17.15,\n",
       "        18.1 , 19.05, 20.  ]),\n",
       " <a list of 20 Patch objects>)"
      ]
     },
     "execution_count": 9,
     "metadata": {},
     "output_type": "execute_result"
    },
    {
     "data": {
      "image/png": "[encoded data removed]",
      "text/plain": [
       "<Figure size 576x288 with 2 Axes>"
      ]
     },
     "metadata": {
      "needs_background": "light"
     },
     "output_type": "display_data"
    }
   ],
   "source": [
    "import matplotlib.pyplot as plt\n",
    "%matplotlib inline\n",
    "plt.figure(figsize=[8, 4])\n",
    "plt.subplot(1, 2, 1)\n",
    "plt.title(\"words\")\n",
    "plt.hist(list(map(len, all_words)), bins=20)\n",
    "\n",
    "plt.subplot(1, 2, 2)\n",
    "plt.title('translations')\n",
    "plt.hist(list(map(len, all_translations)), bins=20)"
   ]
  },
  {
   "cell_type": "markdown",
   "metadata": {},
   "source": [
    "### Step 3: deploy encoder-decoder (1 point)\n",
    "\n",
    "__assignment starts here__\n",
    "\n",
    "Our architecture consists of two main blocks:\n",
    "* Encoder reads words character by character and outputs code vector (usually a function of last RNN state)\n",
    "* Decoder takes that code vector and produces translations character by character\n",
    "\n",
    "Than it gets fed into a model that follows this simple interface:\n",
    "* __`model(inp, out, **flags) -> logp`__ - takes symbolic int32 matrices of hebrew words and their english translations. Computes the log-probabilities of all possible english characters given english prefices and hebrew word.\n",
    "* __`model.translate(inp, **flags) -> out, logp`__ - takes symbolic int32 matrix of hebrew words, produces output tokens sampled from the model and output log-probabilities for all possible tokens at each tick.\n",
    "  * if given flag __`greedy=True`__, takes most likely next token at each iteration. Otherwise samples with next token probabilities predicted by model.\n",
    "\n",
    "That's all! It's as hard as it gets. With those two methods alone you can implement all kinds of prediction and training."
   ]
  },
  {
   "cell_type": "code",
   "execution_count": 10,
   "metadata": {},
   "outputs": [],
   "source": [
    "import torch\n",
    "import torch.nn as nn\n",
    "import torch.nn.functional as F"
   ]
  },
  {
   "cell_type": "code",
   "execution_count": 11,
   "metadata": {},
   "outputs": [],
   "source": [
    "class AttentionLayer(nn.Module):\n",
    "    def __init__(self, hidden_size):\n",
    "        super(self.__class__, self).__init__()\n",
    "        self.W1 = nn.Linear(hidden_size, hidden_size)\n",
    "        self.W2 = nn.Linear(hidden_size, hidden_size)\n",
    "        self.V = nn.Linear(hidden_size, 1)\n",
    "    \n",
    "    def forward(self, enc_seq, decoder_state):\n",
    "        score = self.V(torch.tanh(self.W1(enc_seq) + self.W2(decoder_state.unsqueeze(1))))\n",
    "        attention_weights = F.softmax(score, dim=1)\n",
    "        context_vector = attention_weights * enc_seq\n",
    "        return torch.sum(context_vector, 1)\n",
    "\n",
    "class AttentionTranslationModel(nn.Module):\n",
    "    def __init__(self, inp_voc, out_voc,\n",
    "                 emb_size, hid_size,):\n",
    "        super(self.__class__, self).__init__()\n",
    "        self.inp_voc = inp_voc\n",
    "        self.out_voc = out_voc\n",
    "\n",
    "        self.emb_inp = nn.Embedding(len(inp_voc), emb_size)\n",
    "        self.emb_out = nn.Embedding(len(out_voc), emb_size)\n",
    "        self.enc0 = nn.GRU(emb_size, hid_size, batch_first=True)\n",
    "        self.attn_layer = AttentionLayer(hid_size)\n",
    "        self.dec0 = nn.GRUCell(emb_size + hid_size, hid_size)\n",
    "        self.logits = nn.Linear(hid_size, len(out_voc))\n",
    "\n",
    "    def encode(self, inp, **flags):\n",
    "        \"\"\"\n",
    "        Takes symbolic input sequence, computes initial state\n",
    "        :param inp: a vector of input tokens  (Variable, int64, 1d)\n",
    "        :return: a list of initial decoder state tensors\n",
    "        \"\"\"\n",
    "        inp_emb = self.emb_inp(inp)\n",
    "        enc_seq, hidden = self.enc0(inp_emb)\n",
    "        # select last element w.r.t. mask\n",
    "        end_index = infer_length(inp, self.inp_voc.eos_ix)\n",
    "        end_index[end_index >= inp.shape[1]] = inp.shape[1] - 1\n",
    "        enc_last = enc_seq[range(0, enc_seq.shape[0]), end_index.detach(), :]\n",
    "\n",
    "        return enc_seq\n",
    "\n",
    "    def decode(self, enc_seq, hidden, prev_tokens, **flags):\n",
    "        \"\"\"\n",
    "        Takes previous decoder state and tokens, returns new state and logits\n",
    "        :param prev_state: a list of previous decoder state tensors\n",
    "        :param prev_tokens: previous output tokens, an int vector of [batch_size]\n",
    "        :return: a list of next decoder state tensors, a tensor of logits [batch,n_tokens]\n",
    "        \"\"\"\n",
    "\n",
    "        prev_emb = self.emb_out(prev_tokens)\n",
    "        attention_applied = self.attn_layer(enc_seq, hidden[0])\n",
    "        new_dec_state = self.dec0(torch.cat([attention_applied, prev_emb], 1), hidden[0])\n",
    "        output_logits = self.logits(new_dec_state)\n",
    "\n",
    "        return [new_dec_state], output_logits\n",
    "\n",
    "    def forward(self, inp, out, eps=1e-30, **flags):\n",
    "        \"\"\"\n",
    "        Takes symbolic int32 matrices of hebrew words and their english translations.\n",
    "        Computes the log-probabilities of all possible english characters given english prefices and hebrew word.\n",
    "        :param inp: input sequence, int32 matrix of shape [batch,time]\n",
    "        :param out: output sequence, int32 matrix of shape [batch,time]\n",
    "        :return: log-probabilities of all possible english characters of shape [bath,time,n_tokens]\n",
    "\n",
    "        Note: log-probabilities time axis is synchronized with out\n",
    "        In other words, logp are probabilities of __current__ output at each tick, not the next one\n",
    "        therefore you can get likelihood as logprobas * tf.one_hot(out,n_tokens)\n",
    "        \"\"\"\n",
    "        device = next(self.parameters()).device\n",
    "        batch_size = inp.shape[0]\n",
    "        bos = torch.tensor(\n",
    "            [self.out_voc.bos_ix] * batch_size,\n",
    "            dtype=torch.long,\n",
    "            device=device,\n",
    "        )\n",
    "        logits_seq = [torch.log(to_one_hot(bos, len(self.out_voc)) + eps)]\n",
    "\n",
    "        enc_seq = self.encode(inp, **flags)\n",
    "        hid_state = torch.zeros_like(enc_seq[:,0],device=device).unsqueeze(0)\n",
    "        for x_t in out.transpose(0, 1)[:-1]:\n",
    "            hid_state, logits = self.decode(enc_seq, hid_state, x_t, **flags)\n",
    "            logits_seq.append(logits)\n",
    "\n",
    "        return F.log_softmax(torch.stack(logits_seq, dim=1), dim=-1)\n",
    "\n",
    "    def translate(self, inp, greedy=False, max_len=None, eps=1e-30, **flags):\n",
    "        \"\"\"\n",
    "        takes symbolic int32 matrix of hebrew words, produces output tokens sampled\n",
    "        from the model and output log-probabilities for all possible tokens at each tick.\n",
    "        :param inp: input sequence, int32 matrix of shape [batch,time]\n",
    "        :param greedy: if greedy, takes token with highest probablity at each tick.\n",
    "            Otherwise samples proportionally to probability.\n",
    "        :param max_len: max length of output, defaults to 2 * input length\n",
    "        :return: output tokens int32[batch,time] and\n",
    "                 log-probabilities of all tokens at each tick, [batch,time,n_tokens]\n",
    "        \"\"\"\n",
    "        device = next(self.parameters()).device\n",
    "        batch_size = inp.shape[0]\n",
    "        bos = torch.tensor(\n",
    "            [self.out_voc.bos_ix] * batch_size,\n",
    "            dtype=torch.long,\n",
    "            device=device,\n",
    "        )\n",
    "        mask = torch.ones(batch_size, dtype=torch.bool, device=device)\n",
    "        logits_seq = [torch.log(to_one_hot(bos, len(self.out_voc)) + eps)]\n",
    "        out_seq = [bos]\n",
    "\n",
    "        enc_seq = self.encode(inp, **flags)\n",
    "        hid_state = torch.zeros_like(enc_seq[:,0],device=device).unsqueeze(0)\n",
    "        while True:\n",
    "            hid_state, logits = self.decode(enc_seq, hid_state, out_seq[-1], **flags)\n",
    "            if greedy:\n",
    "                _, y_t = torch.max(logits, dim=-1)\n",
    "            else:\n",
    "                probs = F.softmax(logits, dim=-1)\n",
    "                y_t = torch.multinomial(probs, 1)[:, 0]\n",
    "\n",
    "            logits_seq.append(logits)\n",
    "            out_seq.append(y_t)\n",
    "            mask &= (y_t != self.out_voc.eos_ix)\n",
    "\n",
    "            if not mask.any():\n",
    "                break\n",
    "            if max_len and len(out_seq) >= max_len:\n",
    "                break\n",
    "\n",
    "        return (\n",
    "            torch.stack(out_seq, 1),\n",
    "            F.log_softmax(torch.stack(logits_seq, 1), dim=-1),\n",
    "        )\n",
    "\n",
    "\n",
    "### Utility functions ###\n",
    "\n",
    "def infer_mask(\n",
    "        seq,\n",
    "        eos_ix,\n",
    "        batch_first=True,\n",
    "        include_eos=True,\n",
    "        dtype=torch.float):\n",
    "    \"\"\"\n",
    "    compute mask given output indices and eos code\n",
    "    :param seq: tf matrix [time,batch] if batch_first else [batch,time]\n",
    "    :param eos_ix: integer index of end-of-sentence token\n",
    "    :param include_eos: if True, the time-step where eos first occurs is has mask = 1\n",
    "    :returns: mask, float32 matrix with '0's and '1's of same shape as seq\n",
    "    \"\"\"\n",
    "    assert seq.dim() == 2\n",
    "    is_eos = (seq == eos_ix).to(dtype=torch.float)\n",
    "    if include_eos:\n",
    "        if batch_first:\n",
    "            is_eos = torch.cat((is_eos[:, :1] * 0, is_eos[:, :-1]), dim=1)\n",
    "        else:\n",
    "            is_eos = torch.cat((is_eos[:1, :] * 0, is_eos[:-1, :]), dim=0)\n",
    "    count_eos = torch.cumsum(is_eos, dim=1 if batch_first else 0)\n",
    "    mask = count_eos == 0\n",
    "    return mask.to(dtype=dtype)\n",
    "\n",
    "\n",
    "def infer_length(\n",
    "        seq,\n",
    "        eos_ix,\n",
    "        batch_first=True,\n",
    "        include_eos=True,\n",
    "        dtype=torch.long):\n",
    "    \"\"\"\n",
    "    compute length given output indices and eos code\n",
    "    :param seq: tf matrix [time,batch] if time_major else [batch,time]\n",
    "    :param eos_ix: integer index of end-of-sentence token\n",
    "    :param include_eos: if True, the time-step where eos first occurs is has mask = 1\n",
    "    :returns: lengths, int32 vector of shape [batch]\n",
    "    \"\"\"\n",
    "    mask = infer_mask(seq, eos_ix, batch_first, include_eos, dtype)\n",
    "    return torch.sum(mask, dim=1 if batch_first else 0)\n",
    "\n",
    "\n",
    "def to_one_hot(y, n_dims=None):\n",
    "    \"\"\" Take integer y (tensor or variable) with n dims and convert it to 1-hot representation with n+1 dims. \"\"\"\n",
    "    y_tensor = y.data\n",
    "    y_tensor = y_tensor.to(dtype=torch.long).view(-1, 1)\n",
    "    n_dims = n_dims if n_dims is not None else int(torch.max(y_tensor)) + 1\n",
    "    y_one_hot = torch.zeros(\n",
    "        y_tensor.size()[0],\n",
    "        n_dims,\n",
    "        device=y.device,\n",
    "    ).scatter_(1, y_tensor, 1)\n",
    "    y_one_hot = y_one_hot.view(*y.shape, -1)\n",
    "    return y_one_hot"
   ]
  },
  {
   "cell_type": "code",
   "execution_count": 12,
   "metadata": {},
   "outputs": [],
   "source": [
    "device = torch.device('cuda')\n",
    "# from basic_model_torch import BasicTranslationModel\n",
    "model = AttentionTranslationModel(inp_voc, out_voc,\n",
    "                              emb_size=64, hid_size=256).to(device)"
   ]
  },
  {
   "cell_type": "code",
   "execution_count": 13,
   "metadata": {},
   "outputs": [
    {
     "name": "stdout",
     "output_type": "stream",
     "text": [
      "Sample translations:\n",
      " tensor([[  0, 231, 140,  22, 151, 239,  66,  44,  92,  15,  59,  60,  52,  37,\n",
      "          45, 164,  66, 202,  63,  49,  81,   9, 123, 266, 146,  47, 210, 125,\n",
      "         189, 111, 161, 217, 174, 253, 186, 115, 202, 195,  81, 230, 212, 179,\n",
      "          12,  98, 257, 247,  24, 280, 275, 117,  93, 131, 189,  36,  51, 181,\n",
      "         249, 151, 251, 202,   0, 220, 275, 256,  57, 117, 222, 107, 241, 255,\n",
      "         101,  84,   2,  81, 279, 203,   7, 112, 191, 222,  56,  47, 121, 129,\n",
      "         157,  55,  69, 147,  36,  44, 194, 281,  65, 236, 220,  45, 153,  64,\n",
      "          62, 204, 261, 260, 197, 152,  47, 219, 106, 119,  92, 126,   2, 220,\n",
      "         173,  16, 176,  87, 278, 230, 200, 275, 130, 253, 106, 239, 213, 233,\n",
      "          68, 184, 133,   3, 119,   5, 177,  86, 116,  42, 174, 277,  58, 129,\n",
      "         234,   2,  91,  50,  40, 228,  48, 103, 171,  22,  59, 166, 110, 134,\n",
      "         175,  95, 161, 274, 269, 162, 194, 278,  28,  18,  16, 210, 104, 170,\n",
      "          47, 187, 180, 176, 140,  21, 187, 141, 222, 227,  53,  87, 226, 250,\n",
      "         279,  14, 162, 129, 229, 220,  57, 258, 192,  11,  75, 213,  85, 179,\n",
      "         199, 121, 181,   1, 277,  22,  31,  68,  51, 275, 220,  17, 174, 205,\n",
      "         102,  48,  48, 124,   1, 269,   5,  42, 279, 250, 262, 111,  40, 222,\n",
      "          42, 212,  83, 254, 140,   9, 125, 230, 269, 232,  86, 242, 100, 214,\n",
      "         196, 168, 195,  86, 260,  12,  29,  89,  28, 252, 262,  39, 144,  83,\n",
      "         125, 199,  34, 165, 211,  27, 213, 129,  67],\n",
      "        [  0, 112,  74, 164, 138, 102, 159,  72, 239, 276, 254,  99,  85,  55,\n",
      "         165, 214, 254,  83,  73, 221,  37, 220, 274,  96, 125, 212,  40,  99,\n",
      "           2,  60, 183, 267,  55, 135, 121, 246,  71,  53, 218,  56, 222,  70,\n",
      "          66, 231, 271, 266,  41, 155, 148,  73,  24, 168, 217, 112, 152, 271,\n",
      "         101, 182,  82, 246,  78, 268, 201, 163, 232, 174, 244, 241, 186,  42,\n",
      "         177, 184, 151, 136, 232,  62,  39, 236, 202, 267,  99,  59, 145, 200,\n",
      "         227,  42,  46, 115, 271,  80,  68,  13, 142, 219,  77, 145,  95,  44,\n",
      "         239, 182,  11, 272, 248, 175, 208,  69, 260, 140, 143, 104, 170,   9,\n",
      "          73, 169,  10, 224, 199, 193, 190, 149, 182, 147,  67, 194, 135, 232,\n",
      "          28, 124, 196, 143, 226,  51, 251,  31, 133, 154,   8, 230,  12, 190,\n",
      "          11,  89,   5, 226, 199, 115, 115,  79, 122, 205, 156, 213, 142,  72,\n",
      "         172,  80, 216, 186, 101,  49, 140, 186,  71, 256,  80,   5,  39, 114,\n",
      "         146, 130,  15,  85,  51,  63,  11, 242,  60, 212, 120, 187, 205, 115,\n",
      "         279, 179,   4, 174, 253, 108, 204,  73, 165,  18,  67,  96, 216, 280,\n",
      "          69, 216, 187,  20,   2, 170,   2,  33, 264, 259,  90, 252,  86, 210,\n",
      "         153,  18, 218,  25,   3,   2, 132,  55, 265,  39,  50,  62,  95, 273,\n",
      "         252,  85, 151,  11, 142,  89,  19, 258, 232, 246, 271,  76, 214, 258,\n",
      "         171,  61,  53, 187, 100,  62,  85,  51, 185,  61, 111,  61, 154, 187,\n",
      "         260, 216, 102, 185, 219,  68, 144,  20,   1],\n",
      "        [  0, 255,  87, 217,  49, 276, 196,  64,  43, 211, 235, 242, 209,   6,\n",
      "         263, 240, 258,  45,  24, 281,  92,  89,  75, 181, 133,  42, 234,   4,\n",
      "          21, 172,  28, 101, 209,  66,   2,  79,  19, 180, 164,  27, 102, 196,\n",
      "          94, 185,  27, 186, 176,  57,  74, 144,  85,  79, 140,  70, 265,  92,\n",
      "         219, 182,  81, 281, 159, 238, 254,  85,  66, 111,  92, 249, 275, 254,\n",
      "         256, 254,  84,   1,  29, 201,  89, 206,  32, 238, 114, 241, 246,  75,\n",
      "         144,   8,  52,   3, 186,  34, 236, 279, 213,  29,  73,  29,  57,   3,\n",
      "         221,   3, 278, 256,  56,  43,  58, 181,  41, 245, 138, 151, 165,  46,\n",
      "          87,  33, 100,  92, 143,  19, 183,  59,  18, 199, 243,  10, 211,   5,\n",
      "         122, 180, 229, 223,  80,  80, 242, 246, 281,  78,  68,   4, 169, 171,\n",
      "          24, 146, 200, 256, 235, 220, 125, 202,  54, 134, 187,  90, 170, 118,\n",
      "         100, 140, 234,  61,  79, 156, 132,  17, 129,  49,  96,  93, 131,  88,\n",
      "         102, 256, 163, 168, 181,  20, 158, 188, 231, 145, 233, 154,  32, 275,\n",
      "          51, 141, 183,  14, 159,  89, 148, 105, 150, 241,  81, 173, 209, 278,\n",
      "         166,  71, 218,  36, 167, 223, 262, 215,  34, 122, 182, 191, 138,  50,\n",
      "         123, 232, 189, 110, 206,  71, 108, 226, 194, 175,  90,  84, 108, 149,\n",
      "         195, 278, 132, 226, 110,  55, 160, 175, 208,  44, 258, 252, 181, 102,\n",
      "         114, 145, 232, 244, 106,  26, 107, 171, 121, 225, 209, 168,  29,  94,\n",
      "         149,  64,  24, 275, 269, 277,  57,  81,   0]], device='cuda:0')\n",
      "Log-probabilities at each step:\n",
      " tensor([[[  0.0000, -69.0776, -69.0776,  ..., -69.0776, -69.0776, -69.0776],\n",
      "         [ -5.7269,  -5.7668,  -5.4847,  ...,  -5.7176,  -5.6205,  -5.7477],\n",
      "         [ -5.7207,  -5.6880,  -5.5419,  ...,  -5.5783,  -5.6287,  -5.7974],\n",
      "         ...,\n",
      "         [ -5.6915,  -5.6874,  -5.6454,  ...,  -5.4261,  -5.6142,  -5.6335],\n",
      "         [ -5.6773,  -5.6683,  -5.7903,  ...,  -5.6113,  -5.6970,  -5.6145],\n",
      "         [ -5.7564,  -5.6802,  -5.7436,  ...,  -5.6267,  -5.6738,  -5.8837]],\n",
      "\n",
      "        [[  0.0000, -69.0776, -69.0776,  ..., -69.0776, -69.0776, -69.0776],\n",
      "         [ -5.7269,  -5.7711,  -5.4995,  ...,  -5.7171,  -5.6266,  -5.7267],\n",
      "         [ -5.7248,  -5.7121,  -5.4342,  ...,  -5.7023,  -5.5660,  -5.7989],\n",
      "         ...,\n",
      "         [ -5.8163,  -5.7033,  -5.8976,  ...,  -5.7294,  -5.5924,  -5.6645],\n",
      "         [ -5.6508,  -5.7237,  -5.6504,  ...,  -5.6435,  -5.6435,  -5.7870],\n",
      "         [ -5.6373,  -5.6689,  -5.7219,  ...,  -5.6848,  -5.6409,  -5.7742]],\n",
      "\n",
      "        [[  0.0000, -69.0776, -69.0776,  ..., -69.0776, -69.0776, -69.0776],\n",
      "         [ -5.7317,  -5.7318,  -5.5002,  ...,  -5.6855,  -5.6204,  -5.7634],\n",
      "         [ -5.8256,  -5.6953,  -5.6763,  ...,  -5.5180,  -5.6513,  -5.6543],\n",
      "         ...,\n",
      "         [ -5.8596,  -5.4798,  -5.7422,  ...,  -5.4643,  -5.5916,  -5.6504],\n",
      "         [ -5.7313,  -5.6435,  -5.7408,  ...,  -5.5274,  -5.5301,  -5.7402],\n",
      "         [ -5.6499,  -5.5632,  -5.6789,  ...,  -5.6573,  -5.6587,  -5.7786]]],\n",
      "       device='cuda:0', grad_fn=<LogSoftmaxBackward>)\n"
     ]
    }
   ],
   "source": [
    "# Play around with symbolic_translate and symbolic_score\n",
    "inp = torch.tensor(np.random.randint(0, 10, [3, 5]), dtype=torch.int64).to(device)\n",
    "out = torch.tensor(np.random.randint(0, 10, [3, 5]), dtype=torch.int64).to(device)\n",
    "\n",
    "# translate inp (with untrained model)\n",
    "sampled_out, logp = model.translate(inp, greedy=False)\n",
    "\n",
    "print(\"Sample translations:\\n\", sampled_out)\n",
    "print(\"Log-probabilities at each step:\\n\", logp)"
   ]
  },
  {
   "cell_type": "code",
   "execution_count": 14,
   "metadata": {},
   "outputs": [
    {
     "name": "stdout",
     "output_type": "stream",
     "text": [
      "Symbolic_score output:\n",
      " tensor([[[  0.0000, -69.0776, -69.0776,  ..., -69.0776, -69.0776, -69.0776],\n",
      "         [ -5.6860,  -5.5389,  -5.7345,  ...,  -5.5490,  -5.5933,  -5.7236],\n",
      "         [ -5.8144,  -5.5833,  -5.6704,  ...,  -5.5951,  -5.5855,  -5.6540],\n",
      "         [ -5.7193,  -5.5077,  -5.7801,  ...,  -5.5638,  -5.5905,  -5.7064],\n",
      "         [ -5.7066,  -5.4805,  -5.8308,  ...,  -5.5358,  -5.5708,  -5.7291]],\n",
      "\n",
      "        [[  0.0000, -69.0776, -69.0776,  ..., -69.0776, -69.0776, -69.0776],\n",
      "         [ -5.7408,  -5.7016,  -5.5823,  ...,  -5.5612,  -5.7809,  -5.5888],\n",
      "         [ -5.7388,  -5.6569,  -5.6353,  ...,  -5.5305,  -5.6937,  -5.6296],\n",
      "         [ -5.7417,  -5.8448,  -5.5623,  ...,  -5.5513,  -5.6152,  -5.5934],\n",
      "         [ -5.7048,  -5.7201,  -5.6219,  ...,  -5.5554,  -5.5764,  -5.6509]],\n",
      "\n",
      "        [[  0.0000, -69.0776, -69.0776,  ..., -69.0776, -69.0776, -69.0776],\n",
      "         [ -5.8039,  -5.5774,  -5.6134,  ...,  -5.6116,  -5.6088,  -5.6495],\n",
      "         [ -5.7681,  -5.6492,  -5.5854,  ...,  -5.5508,  -5.7583,  -5.5921],\n",
      "         [ -5.7474,  -5.7774,  -5.5376,  ...,  -5.4847,  -5.6404,  -5.5868],\n",
      "         [ -5.7903,  -5.6375,  -5.5845,  ...,  -5.5666,  -5.6287,  -5.6186]]],\n",
      "       device='cuda:0', grad_fn=<LogSoftmaxBackward>)\n",
      "Log-probabilities of output tokens:\n",
      " tensor([[[-69.0776],\n",
      "         [ -5.5665],\n",
      "         [ -5.6077],\n",
      "         [ -5.7157],\n",
      "         [ -5.4649]],\n",
      "\n",
      "        [[-69.0776],\n",
      "         [ -5.8299],\n",
      "         [ -5.7783],\n",
      "         [ -5.6504],\n",
      "         [ -5.7683]],\n",
      "\n",
      "        [[-69.0776],\n",
      "         [ -5.6553],\n",
      "         [ -5.7436],\n",
      "         [ -5.4657],\n",
      "         [ -5.5969]]], device='cuda:0', grad_fn=<GatherBackward>)\n"
     ]
    }
   ],
   "source": [
    "# score logp(out | inp) with untrained input\n",
    "logp = model(inp, out)\n",
    "print(\"Symbolic_score output:\\n\", logp)\n",
    "\n",
    "print(\"Log-probabilities of output tokens:\\n\",\n",
    "      torch.gather(logp, dim=2, index=out[:, :, None]))"
   ]
  },
  {
   "cell_type": "code",
   "execution_count": 15,
   "metadata": {},
   "outputs": [],
   "source": [
    "def translate(lines, max_len=MAX_OUTPUT_LENGTH):\n",
    "    \"\"\"\n",
    "    You are given a list of input lines. \n",
    "    Make your neural network translate them.\n",
    "    :return: a list of output lines\n",
    "    \"\"\"\n",
    "    # Convert lines to a matrix of indices\n",
    "    lines_ix = inp_voc.to_matrix(lines)\n",
    "    lines_ix = torch.tensor(lines_ix, dtype=torch.int64).to(device)\n",
    "\n",
    "    # Compute translations in form of indices\n",
    "    trans_ix = model.translate(lines_ix,max_len = max_len, greedy = True)[0]\n",
    "\n",
    "    # Convert translations back into strings\n",
    "    return out_voc.to_lines(trans_ix.data.cpu().numpy())"
   ]
  },
  {
   "cell_type": "code",
   "execution_count": 16,
   "metadata": {},
   "outputs": [
    {
     "name": "stdout",
     "output_type": "stream",
     "text": [
      "Sample inputs: ['משתמש:צלף/!' 'סימן קריאה' 'תבנית:!!']\n",
      "Dummy translations: ['ы桜س仙4żœūɱ榎ɱ榎ɱ榎ɱ榎ɱ榎ɱ', 'ы桜仙šťղ פē野یשتتتتتçť', 'ы桜ןřạあןוŏ=סصןůןůןůן']\n",
      "Tests passed!\n"
     ]
    }
   ],
   "source": [
    "print(\"Sample inputs:\", all_words[:3])\n",
    "print(\"Dummy translations:\", translate(all_words[:3]))\n",
    "trans = translate(all_words[:3])\n",
    "\n",
    "assert translate(all_words[:3]) == translate(\n",
    "    all_words[:3]), \"make sure translation is deterministic (use greedy=True and disable any noise layers)\"\n",
    "assert type(translate(all_words[:3])) is list and (type(translate(all_words[:1])[0]) is str or type(\n",
    "    translate(all_words[:1])[0]) is unicode), \"translate(lines) must return a sequence of strings!\"\n",
    "# note: if translation freezes, make sure you used max_len parameter\n",
    "print(\"Tests passed!\")"
   ]
  },
  {
   "cell_type": "markdown",
   "metadata": {},
   "source": [
    "### Scoring function\n",
    "\n",
    "LogLikelihood is a poor estimator of model performance.\n",
    "* If we predict zero probability once, it shouldn't ruin entire model.\n",
    "* It is enough to learn just one translation if there are several correct ones.\n",
    "* What matters is how many mistakes model's gonna make when it translates!\n",
    "\n",
    "Therefore, we will use minimal Levenshtein distance. It measures how many characters do we need to add/remove/replace from model translation to make it perfect. Alternatively, one could use character-level BLEU/RougeL or other similar metrics.\n",
    "\n",
    "The catch here is that Levenshtein distance is not differentiable: it isn't even continuous. We can't train our neural network to maximize it by gradient descent."
   ]
  },
  {
   "cell_type": "code",
   "execution_count": 17,
   "metadata": {},
   "outputs": [],
   "source": [
    "import editdistance  # !pip install editdistance\n",
    "\n",
    "\n",
    "def get_distance(word, trans):\n",
    "    \"\"\"\n",
    "    A function that takes word and predicted translation\n",
    "    and evaluates (Levenshtein's) edit distance to closest correct translation\n",
    "    \"\"\"\n",
    "    references = word_to_translation[word]\n",
    "    assert len(references) != 0, \"wrong/unknown word\"\n",
    "    return min(editdistance.eval(trans, ref) for ref in references)\n",
    "\n",
    "\n",
    "def score(words, bsize=100):\n",
    "    \"\"\"a function that computes levenshtein distance for bsize random samples\"\"\"\n",
    "    assert isinstance(words, np.ndarray)\n",
    "\n",
    "    batch_words = np.random.choice(words, size=bsize, replace=False)\n",
    "    batch_trans = translate(batch_words)\n",
    "\n",
    "    distances = list(map(get_distance, batch_words, batch_trans))\n",
    "\n",
    "    return np.array(distances, dtype='float32')"
   ]
  },
  {
   "cell_type": "code",
   "execution_count": 18,
   "metadata": {},
   "outputs": [
    {
     "data": {
      "text/plain": [
       "[19.1, 18.8, 18.9, 18.8, 19.0]"
      ]
     },
     "execution_count": 18,
     "metadata": {},
     "output_type": "execute_result"
    }
   ],
   "source": [
    "# should be around 5-50 and decrease rapidly after training :)\n",
    "[score(test_words, 10).mean() for _ in range(5)]"
   ]
  },
  {
   "cell_type": "markdown",
   "metadata": {},
   "source": [
    "## Step 2: Supervised pre-training (2 points)\n",
    "\n",
    "Here we define a function that trains our model through maximizing log-likelihood a.k.a. minimizing crossentropy."
   ]
  },
  {
   "cell_type": "code",
   "execution_count": 19,
   "metadata": {},
   "outputs": [],
   "source": [
    "import random\n",
    "\n",
    "\n",
    "def sample_batch(words, word_to_translation, batch_size):\n",
    "    \"\"\"\n",
    "    sample random batch of words and random correct translation for each word\n",
    "    example usage:\n",
    "    batch_x,batch_y = sample_batch(train_words, word_to_translations,10)\n",
    "    \"\"\"\n",
    "    # choose words\n",
    "    batch_words = np.random.choice(words, size=batch_size)\n",
    "\n",
    "    # choose translations\n",
    "    batch_trans_candidates = list(map(word_to_translation.get, batch_words))\n",
    "    batch_trans = list(map(random.choice, batch_trans_candidates))\n",
    "    return batch_words, batch_trans"
   ]
  },
  {
   "cell_type": "code",
   "execution_count": 20,
   "metadata": {},
   "outputs": [
    {
     "name": "stdout",
     "output_type": "stream",
     "text": [
      "Source:\n",
      "['מרכז רוקפלר' 'די בראון' 'פודונג']\n",
      "Target:\n",
      "['rockefeller center', 'dee brown', 'pudong']\n"
     ]
    }
   ],
   "source": [
    "bx, by = sample_batch(train_words, word_to_translation, batch_size=3)\n",
    "print(\"Source:\")\n",
    "print(bx)\n",
    "print(\"Target:\")\n",
    "print(by)"
   ]
  },
  {
   "cell_type": "code",
   "execution_count": 21,
   "metadata": {},
   "outputs": [],
   "source": [
    "from basic_model_torch import infer_length, infer_mask, to_one_hot\n",
    "\n",
    "\n",
    "def compute_loss_on_batch(input_sequence, reference_answers):\n",
    "    \"\"\" Compute crossentropy loss given a batch of sources and translations \"\"\"\n",
    "    input_sequence = torch.tensor(inp_voc.to_matrix(input_sequence), dtype=torch.int64).to(device)\n",
    "    reference_answers = torch.tensor(out_voc.to_matrix(reference_answers), dtype=torch.int64).to(device)\n",
    "\n",
    "    # Compute log-probabilities of all possible tokens at each step. Use model interface.\n",
    "    logprobs_seq = model(input_sequence,reference_answers) #<YOUR CODE>\n",
    "\n",
    "    # compute elementwise crossentropy as negative log-probabilities of reference_answers.\n",
    "    crossentropy = - \\\n",
    "        torch.sum(logprobs_seq *\n",
    "                  to_one_hot(reference_answers, len(out_voc)), dim=-1)\n",
    "    assert crossentropy.dim(\n",
    "    ) == 2, \"please return elementwise crossentropy, don't compute mean just yet\"\n",
    "\n",
    "    # average with mask\n",
    "    mask = infer_mask(reference_answers, out_voc.eos_ix)\n",
    "    loss = torch.sum(crossentropy * mask) / torch.sum(mask)\n",
    "\n",
    "    return loss"
   ]
  },
  {
   "cell_type": "code",
   "execution_count": 22,
   "metadata": {},
   "outputs": [
    {
     "name": "stdout",
     "output_type": "stream",
     "text": [
      "loss =  tensor(5.0434, device='cuda:0', grad_fn=<DivBackward0>)\n"
     ]
    }
   ],
   "source": [
    "# test it\n",
    "loss = compute_loss_on_batch(*sample_batch(train_words, word_to_translation, 3))\n",
    "print('loss = ', loss)\n",
    "\n",
    "assert loss.item() > 0.0\n",
    "loss.backward()\n",
    "for w in model.parameters():\n",
    "    assert w.grad is not None and torch.max(torch.abs(w.grad)).item() != 0, \\\n",
    "        \"Loss is not differentiable w.r.t. a weight with shape %s. Check comput_loss_on_batch.\" % (\n",
    "            w.size(),)"
   ]
  },
  {
   "cell_type": "markdown",
   "metadata": {},
   "source": [
    "##### Actually train the model\n",
    "\n",
    "Minibatches and stuff..."
   ]
  },
  {
   "cell_type": "code",
   "execution_count": 23,
   "metadata": {},
   "outputs": [],
   "source": [
    "from IPython.display import clear_output\n",
    "from tqdm import tqdm, trange  # or use tqdm_notebook,tnrange\n",
    "\n",
    "loss_history = []\n",
    "editdist_history = []\n",
    "entropy_history = []\n",
    "opt = torch.optim.Adam(model.parameters())"
   ]
  },
  {
   "cell_type": "code",
   "execution_count": 24,
   "metadata": {},
   "outputs": [
    {
     "name": "stdout",
     "output_type": "stream",
     "text": [
      "llh=0.805, mean score=5.444\n"
     ]
    },
    {
     "data": {
      "image/png": "[encoded data removed]",
      "text/plain": [
       "<Figure size 864x288 with 3 Axes>"
      ]
     },
     "metadata": {
      "needs_background": "light"
     },
     "output_type": "display_data"
    },
    {
     "name": "stderr",
     "output_type": "stream",
     "text": [
      "100%|██████████| 25000/25000 [13:40<00:00, 30.46it/s]\n"
     ]
    }
   ],
   "source": [
    "\n",
    "\n",
    "for i in trange(25000):\n",
    "    loss = compute_loss_on_batch(*sample_batch(train_words, word_to_translation, 32))\n",
    "\n",
    "    # train with backprop\n",
    "    loss.backward()\n",
    "    opt.step()\n",
    "    opt.zero_grad()\n",
    "\n",
    "    loss_history.append(loss.item())\n",
    "\n",
    "    if (i+1) % REPORT_FREQ == 0:\n",
    "        clear_output(True)\n",
    "        current_scores = score(test_words)\n",
    "        editdist_history.append(current_scores.mean())\n",
    "        print(\"llh=%.3f, mean score=%.3f\" %\n",
    "              (np.mean(loss_history[-10:]), np.mean(editdist_history[-10:])))\n",
    "        plt.figure(figsize=(12, 4))\n",
    "        plt.subplot(131)\n",
    "        plt.title('train loss / traning time')\n",
    "        plt.plot(loss_history)\n",
    "        plt.grid()\n",
    "        plt.subplot(132)\n",
    "        plt.title('val score distribution')\n",
    "        plt.hist(current_scores, bins=20)\n",
    "        plt.subplot(133)\n",
    "        plt.title('val score / traning time (lower is better)')\n",
    "        plt.plot(editdist_history)\n",
    "        plt.grid()\n",
    "        plt.show()"
   ]
  },
  {
   "cell_type": "markdown",
   "metadata": {},
   "source": [
    "__How to interpret the plots:__\n",
    "\n",
    "* __Train loss__ - that's your model's crossentropy over minibatches. It should go down steadily. Most importantly, it shouldn't be NaN :)\n",
    "* __Val score distribution__ - distribution of translation edit distance (score) within batch. It should move to the left over time.\n",
    "* __Val score / training time__ - it's your current mean edit distance. This plot is much whimsier than loss, but make sure it goes below 8 by 2500 steps. \n",
    "\n",
    "If it doesn't, first try to re-create both model and opt. You may have changed it's weight too much while debugging. If that doesn't help, it's debugging time."
   ]
  },
  {
   "cell_type": "code",
   "execution_count": 25,
   "metadata": {},
   "outputs": [
    {
     "name": "stdout",
     "output_type": "stream",
     "text": [
      "מפרש קדמה -> cadma aperacea\n",
      "the information -> the information\n",
      "ביאליניצ'י -> bialinichi\n",
      "סונו ג'וי -> sono gioi\n",
      "ויוויאן פוקס -> vivian pox\n",
      "מנורת שמן -> shaman manace\n",
      "רובין אליס -> robin allis\n",
      "פרנצ'סקו גוארדי -> parnčexco guardi\n",
      "צ'איאונו -> chayono\n",
      "תאופיק אל-חכים -> theopic al-ham\n"
     ]
    }
   ],
   "source": [
    "for word in train_words[:10]:\n",
    "    print(\"%s -> %s\" % (word, translate([word])[0]))"
   ]
  },
  {
   "cell_type": "code",
   "execution_count": 26,
   "metadata": {},
   "outputs": [
    {
     "name": "stderr",
     "output_type": "stream",
     "text": [
      "100%|██████████| 407/407 [00:07<00:00, 55.60it/s]"
     ]
    },
    {
     "name": "stdout",
     "output_type": "stream",
     "text": [
      "Supervised test score: 5.156932062711343\n"
     ]
    },
    {
     "name": "stderr",
     "output_type": "stream",
     "text": [
      "\n"
     ]
    }
   ],
   "source": [
    "test_scores = []\n",
    "for start_i in trange(0, len(test_words), 32):\n",
    "    batch_words = test_words[start_i:start_i+32]\n",
    "    batch_trans = translate(batch_words)\n",
    "    distances = list(map(get_distance, batch_words, batch_trans))\n",
    "    test_scores.extend(distances)\n",
    "\n",
    "print(\"Supervised test score:\", np.mean(test_scores))"
   ]
  },
  {
   "cell_type": "markdown",
   "metadata": {},
   "source": [
    "## Self-critical policy gradient (2 points)\n",
    "\n",
    "In this section you'll implement algorithm called self-critical sequence training (here's an [article](https://arxiv.org/abs/1612.00563)).\n",
    "\n",
    "The algorithm is a vanilla policy gradient with a special baseline. \n",
    "\n",
    "$$ \\nabla J = E_{x \\sim p(s)} E_{y \\sim \\pi(y|x)} \\nabla log \\pi(y|x) \\cdot (R(x,y) - b(x)) $$\n",
    "\n",
    "Here reward R(x,y) is a __negative levenshtein distance__ (since we minimize it). The baseline __b(x)__ represents how well model fares on word __x__.\n",
    "\n",
    "In practice, this means that we compute baseline as a score of greedy translation, $b(x) = R(x,y_{greedy}(x)) $.\n",
    "\n",
    "![img](https://github.com/yandexdataschool/Practical_RL/raw/master/yet_another_week/_resource/scheme.png)\n",
    "\n",
    "\n",
    "Luckily, we already obtained the required outputs: `model.greedy_translations, model.greedy_mask` and we only need to compute levenshtein using `compute_levenshtein` function.\n"
   ]
  },
  {
   "cell_type": "code",
   "execution_count": 27,
   "metadata": {},
   "outputs": [],
   "source": [
    "def compute_reward(input_sequence, translations):\n",
    "    \"\"\" computes sample-wise reward given token ids for inputs and translations \"\"\"\n",
    "    distances = list(map(get_distance,\n",
    "                         inp_voc.to_lines(input_sequence.data.cpu().numpy()),\n",
    "                         out_voc.to_lines(translations.data.cpu().numpy())))\n",
    "    # use negative levenshtein distance so that larger reward means better policy\n",
    "    return - torch.tensor(distances, dtype=torch.int64).to(device)"
   ]
  },
  {
   "cell_type": "code",
   "execution_count": 28,
   "metadata": {},
   "outputs": [],
   "source": [
    "def scst_objective_on_batch(input_sequence, max_len=MAX_OUTPUT_LENGTH):\n",
    "    \"\"\" Compute pseudo-loss for policy gradient given a batch of sources \"\"\"\n",
    "    input_sequence = torch.tensor(inp_voc.to_matrix(input_sequence), dtype=torch.int64).to(device)\n",
    "\n",
    "    # use model to __sample__ symbolic translations given input_sequence\n",
    "    sample_translations, sample_logp = model.translate(input_sequence,max_len = max_len) #<YOUR CODE>\n",
    "    # use model to __greedy__ symbolic translations given input_sequence\n",
    "    greedy_translations, greedy_logp = model.translate(input_sequence,max_len = max_len,greedy=True) #<YOUR CODE>\n",
    "\n",
    "    # compute rewards and advantage\n",
    "    rewards = compute_reward(input_sequence, sample_translations)\n",
    "    baseline = compute_reward(input_sequence, greedy_translations) #<YOUR CODE: compute __negative__ levenshtein for greedy mode>\n",
    "\n",
    "    # compute advantage using rewards and baseline\n",
    "    advantage =  rewards - baseline #<YOUR CODE>\n",
    "\n",
    "    # compute log_pi(a_t|s_t), shape = [batch, seq_length]\n",
    "    logp_sample = torch.sum(\n",
    "        sample_logp * to_one_hot(sample_translations, len(out_voc)), dim=-1) #<YOUR CODE>\n",
    "    \n",
    "    # ^-- hint: look at how crossentropy is implemented in supervised learning loss above\n",
    "    # mind the sign - this one should not be multiplied by -1 :)\n",
    "\n",
    "    # policy gradient pseudo-loss. Gradient of J is exactly policy gradient.\n",
    "    J = logp_sample * advantage[:, None]\n",
    "\n",
    "    assert J.dim() == 2, \"please return elementwise objective, don't compute mean just yet\"\n",
    "\n",
    "    # average with mask\n",
    "    mask = infer_mask(sample_translations, out_voc.eos_ix)\n",
    "    loss = - torch.sum(J * mask) / torch.sum(mask)\n",
    "\n",
    "    # regularize with negative entropy. Don't forget the sign!\n",
    "    # note: for entropy you need probabilities for all tokens (sample_logp), not just logp_sample\n",
    "    entropy = - torch.sum(torch.exp(sample_logp)*sample_logp,dim = -1) #<YOUR CODE: compute entropy matrix of shape[batch, seq_length], H = -sum(p*log_p), don't forget the sign!>\n",
    "    # hint: you can get sample probabilities from sample_logp using math :)\n",
    "\n",
    "    assert entropy.dim(\n",
    "    ) == 2, \"please make sure elementwise entropy is of shape [batch,time]\"\n",
    "\n",
    "    reg = - 0.01 * torch.sum(entropy * mask) / torch.sum(mask)\n",
    "\n",
    "    return loss + reg, torch.sum(entropy * mask) / torch.sum(mask)"
   ]
  },
  {
   "cell_type": "markdown",
   "metadata": {},
   "source": [
    "# Policy gradient training\n"
   ]
  },
  {
   "cell_type": "code",
   "execution_count": 29,
   "metadata": {},
   "outputs": [],
   "source": [
    "entropy_history = [np.nan] * len(loss_history)\n",
    "opt = torch.optim.Adam(model.parameters(), lr=1e-5)"
   ]
  },
  {
   "cell_type": "code",
   "execution_count": 30,
   "metadata": {},
   "outputs": [
    {
     "data": {
      "image/png": "[encoded data removed]",
      "text/plain": [
       "<Figure size 864x288 with 3 Axes>"
      ]
     },
     "metadata": {
      "needs_background": "light"
     },
     "output_type": "display_data"
    },
    {
     "name": "stderr",
     "output_type": "stream",
     "text": [
      "\r",
      "100%|██████████| 100000/100000 [1:23:23<00:00, 19.99it/s]"
     ]
    },
    {
     "name": "stdout",
     "output_type": "stream",
     "text": [
      "J=-0.329, mean score=4.908\n"
     ]
    },
    {
     "name": "stderr",
     "output_type": "stream",
     "text": [
      "\n"
     ]
    }
   ],
   "source": [
    "for i in trange(100000):\n",
    "    loss, ent = scst_objective_on_batch(\n",
    "        sample_batch(train_words, word_to_translation, 32)[0])  # [0] = only source sentence\n",
    "\n",
    "    # train with backprop\n",
    "    loss.backward()\n",
    "    opt.step()\n",
    "    opt.zero_grad()\n",
    "\n",
    "    loss_history.append(loss.item())\n",
    "    entropy_history.append(ent.item())\n",
    "\n",
    "    if (i+1) % REPORT_FREQ == 0:\n",
    "        clear_output(True)\n",
    "        current_scores = score(test_words)\n",
    "        editdist_history.append(current_scores.mean())\n",
    "        plt.figure(figsize=(12, 4))\n",
    "        plt.subplot(131)\n",
    "        plt.title('val score distribution')\n",
    "        plt.hist(current_scores, bins=20)\n",
    "        plt.subplot(132)\n",
    "        plt.title('val score / traning time')\n",
    "        plt.plot(editdist_history)\n",
    "        plt.grid()\n",
    "        plt.subplot(133)\n",
    "        plt.title('policy entropy / traning time')\n",
    "        plt.plot(entropy_history)\n",
    "        plt.grid()\n",
    "        plt.show()\n",
    "        print(\"J=%.3f, mean score=%.3f\" %\n",
    "              (np.mean(loss_history[-10:]), np.mean(editdist_history[-10:])))"
   ]
  },
  {
   "cell_type": "markdown",
   "metadata": {},
   "source": [
    "__Debugging tips:__\n",
    "<img src=https://github.com/yandexdataschool/Practical_RL/raw/master/yet_another_week/_resource/do_something_scst.png width=400>\n",
    "\n",
    " * As usual, don't expect improvements right away, but in general the model should be able to show some positive changes by 5k steps.\n",
    " * Entropy is a good indicator of many problems. \n",
    "   * If it reaches zero, you may need greater entropy regularizer.\n",
    "   * If it has rapid changes time to time, you may need gradient clipping.\n",
    "   * If it oscillates up and down in an erratic manner... it's perfectly okay for entropy to do so. But it should decrease at the end.\n",
    "   \n",
    " * We don't show loss_history cuz it's uninformative for pseudo-losses in policy gradient. However, if something goes wrong you can check it to see if everything isn't a constant zero."
   ]
  },
  {
   "cell_type": "markdown",
   "metadata": {},
   "source": [
    "### Results"
   ]
  },
  {
   "cell_type": "code",
   "execution_count": 31,
   "metadata": {},
   "outputs": [
    {
     "name": "stdout",
     "output_type": "stream",
     "text": [
      "מפרש קדמה -> cadma space\n",
      "the information -> the information\n",
      "ביאליניצ'י -> bialinichi\n",
      "סונו ג'וי -> sono gioi\n",
      "ויוויאן פוקס -> vivian pox\n",
      "מנורת שמן -> shman man\n",
      "רובין אליס -> robin allis\n",
      "פרנצ'סקו גוארדי -> francesco goardi\n",
      "צ'איאונו -> chaiono\n",
      "תאופיק אל-חכים -> theopic al-ham\n"
     ]
    }
   ],
   "source": [
    "for word in train_words[:10]:\n",
    "    print(\"%s -> %s\" % (word, translate([word])[0]))"
   ]
  },
  {
   "cell_type": "code",
   "execution_count": 32,
   "metadata": {},
   "outputs": [
    {
     "name": "stderr",
     "output_type": "stream",
     "text": [
      "100%|██████████| 407/407 [00:05<00:00, 68.67it/s]"
     ]
    },
    {
     "name": "stdout",
     "output_type": "stream",
     "text": [
      "RL test score: 4.688748847217953\n"
     ]
    },
    {
     "name": "stderr",
     "output_type": "stream",
     "text": [
      "\n"
     ]
    }
   ],
   "source": [
    "test_scores = []\n",
    "for start_i in trange(0, len(test_words), 32):\n",
    "    batch_words = test_words[start_i:start_i+32]\n",
    "    batch_trans = translate(batch_words)\n",
    "    distances = list(map(get_distance, batch_words, batch_trans))\n",
    "    test_scores.extend(distances)\n",
    "print(\"RL test score:\", np.mean(test_scores))\n",
    "\n",
    "# ^^ If you get Out Of MemoryError, please replace this with batched computation"
   ]
  },
  {
   "cell_type": "markdown",
   "metadata": {},
   "source": [
    "## Step 6: Make it actually work (5++ pts)\n",
    "\n",
    "In this section we want you to finally __restart with EASY_MODE=False__ and experiment to find a good model/curriculum for that task.\n",
    "\n",
    "We recommend you to start with the following architecture\n",
    "\n",
    "```\n",
    "encoder---decoder\n",
    "\n",
    "           P(y|h)\n",
    "             ^\n",
    " LSTM  ->   LSTM\n",
    "  ^          ^\n",
    " biLSTM  ->   LSTM\n",
    "  ^          ^\n",
    "input       y_prev\n",
    "```\n",
    "\n",
    "__Note:__ you can fit all 4 state tensors of both LSTMs into a in a single state - just assume that it contains, for example, [h0, c0, h1, c1] - pack it in encode and update in decode.\n",
    "\n",
    "\n",
    "Here are some cool ideas on what you can do then.\n",
    "\n",
    "__General tips & tricks:__\n",
    "* You will likely need to adjust pre-training time for such a network.\n",
    "* Supervised pre-training may benefit from clipping gradients somehow.\n",
    "* SCST may indulge a higher learning rate in some cases and changing entropy regularizer over time.\n",
    "* It's often useful to save pre-trained model parameters to not re-train it every time you want new policy gradient parameters. \n",
    "* When leaving training for nighttime, try setting REPORT_FREQ to a larger value (e.g. 500) not to waste time on it.\n",
    "\n",
    "__Formal criteria:__\n",
    "To get 5 points we want you to build an architecture that:\n",
    "* _doesn't consist of single GRU_\n",
    "* _works better_ than single GRU baseline. \n",
    "* We also want you to provide either learning curve or trained model, preferably both\n",
    "* ... and write a brief report or experiment log describing what you did and how it fared.\n",
    "\n",
    "### Attention\n",
    "There's more than one way to connect decoder to encoder\n",
    "  * __Vanilla:__ layer_i of encoder last state goes to layer_i of decoder initial state\n",
    "  * __Every tick:__ feed encoder last state _on every iteration_ of decoder.\n",
    "  * __Attention:__ allow decoder to \"peek\" at one (or several) positions of encoded sequence on every tick.\n",
    "  \n",
    "The most effective (and cool) of those is, of course, attention.\n",
    "You can read more about attention [in this nice blog post](https://distill.pub/2016/augmented-rnns/). The easiest way to begin is to use \"soft\" attention with \"additive\" or \"dot-product\" intermediate layers.\n",
    "\n",
    "__Tips__\n",
    "* Model usually generalizes better if you no longer allow decoder to see final encoder state\n",
    "* Once your model made it through several epochs, it is a good idea to visualize attention maps to understand what your model has actually learned\n",
    "\n",
    "* There's more stuff [here](https://github.com/yandexdataschool/Practical_RL/blob/master/week8_scst/bonus.ipynb)\n",
    "* If you opted for hard attention, we recommend [gumbel-softmax](https://blog.evjang.com/2016/11/tutorial-categorical-variational.html) instead of sampling. Also please make sure soft attention works fine before you switch to hard.\n",
    "\n",
    "### UREX\n",
    "* This is a way to improve exploration in policy-based settings. The main idea is that you find and upweight under-appreciated actions.\n",
    "* Here's [video](https://www.youtube.com/watch?v=fZNyHoXgV7M&feature=youtu.be&t=3444)\n",
    " and an [article](https://arxiv.org/abs/1611.09321).\n",
    "* You may want to reduce batch size 'cuz UREX requires you to sample multiple times per source sentence.\n",
    "* Once you got it working, try using experience replay with importance sampling instead of (in addition to) basic UREX.\n",
    "\n",
    "### Some additional ideas:\n",
    "* (advanced deep learning) It may be a good idea to first train on small phrases and then adapt to larger ones (a.k.a. training curriculum).\n",
    "* (advanced nlp) You may want to switch from raw utf8 to something like unicode or even syllables to make task easier.\n",
    "* (advanced nlp) Since hebrew words are written __with vowels omitted__, you may want to use a small Hebrew vowel markup dataset at `he-pron-wiktionary.txt`.\n",
    "\n"
   ]
  },
  {
   "cell_type": "code",
   "execution_count": 33,
   "metadata": {},
   "outputs": [
    {
     "ename": "AssertionError",
     "evalue": "make sure you set EASY_MODE = False at the top of the notebook.",
     "output_type": "error",
     "traceback": [
      "\u001b[0;31m---------------------------------------------------------------------------\u001b[0m",
      "\u001b[0;31mAssertionError\u001b[0m                            Traceback (most recent call last)",
      "\u001b[0;32m<ipython-input-33-8f0a69407537>\u001b[0m in \u001b[0;36m<module>\u001b[0;34m\u001b[0m\n\u001b[0;32m----> 1\u001b[0;31m \u001b[0;32massert\u001b[0m \u001b[0;32mnot\u001b[0m \u001b[0mEASY_MODE\u001b[0m\u001b[0;34m,\u001b[0m \u001b[0;34m\"make sure you set EASY_MODE = False at the top of the notebook.\"\u001b[0m\u001b[0;34m\u001b[0m\u001b[0;34m\u001b[0m\u001b[0m\n\u001b[0m",
      "\u001b[0;31mAssertionError\u001b[0m: make sure you set EASY_MODE = False at the top of the notebook."
     ]
    }
   ],
   "source": [
    "assert not EASY_MODE, \"make sure you set EASY_MODE = False at the top of the notebook.\""
   ]
  },
  {
   "cell_type": "markdown",
   "metadata": {},
   "source": [
    "`[your report/log here or anywhere you please]`"
   ]
  },
  {
   "cell_type": "markdown",
   "metadata": {},
   "source": [
    "__Contributions:__ This notebook is brought to you by\n",
    "* Yandex [MT team](https://tech.yandex.com/translate/)\n",
    "* Denis Mazur ([DeniskaMazur](https://github.com/DeniskaMazur)), Oleg Vasilev ([Omrigan](https://github.com/Omrigan/)), Dmitry Emelyanenko ([TixFeniks](https://github.com/tixfeniks)) and Fedor Ratnikov ([justheuristic](https://github.com/justheuristic/))\n",
    "* Dataset is parsed from [Wiktionary](https://en.wiktionary.org), which is under CC-BY-SA and GFDL licenses.\n"
   ]
  }
 ],
 "metadata": {
  "kernelspec": {
   "display_name": "Python 3",
   "language": "python",
   "name": "python3"
  },
  "language_info": {
   "codemirror_mode": {
    "name": "ipython",
    "version": 3
   },
   "file_extension": ".py",
   "mimetype": "text/x-python",
   "name": "python",
   "nbconvert_exporter": "python",
   "pygments_lexer": "ipython3",
   "version": "3.7.4"
  }
 },
 "nbformat": 4,
 "nbformat_minor": 1
}
